{
 "cells": [
  {
   "cell_type": "code",
   "execution_count": 1,
   "metadata": {},
   "outputs": [],
   "source": [
    "import pandas as pd"
   ]
  },
  {
   "cell_type": "code",
   "execution_count": 2,
   "metadata": {},
   "outputs": [],
   "source": [
    "df = pd.read_csv('/Volumes/Transcend/data/hist/train_labels.csv')"
   ]
  },
  {
   "cell_type": "code",
   "execution_count": 3,
   "metadata": {},
   "outputs": [],
   "source": [
    "from collections import defaultdict"
   ]
  },
  {
   "cell_type": "code",
   "execution_count": 4,
   "metadata": {},
   "outputs": [],
   "source": [
    "import pathlib"
   ]
  },
  {
   "cell_type": "code",
   "execution_count": 5,
   "metadata": {},
   "outputs": [],
   "source": [
    "root_dir = '/Volumes/Transcend/data/hist/'"
   ]
  },
  {
   "cell_type": "code",
   "execution_count": 6,
   "metadata": {},
   "outputs": [],
   "source": [
    "train_dir = pathlib.Path(root_dir + 'train/')"
   ]
  },
  {
   "cell_type": "code",
   "execution_count": 7,
   "metadata": {},
   "outputs": [],
   "source": [
    "from tqdm import tqdm"
   ]
  },
  {
   "cell_type": "code",
   "execution_count": 8,
   "metadata": {},
   "outputs": [
    {
     "name": "stderr",
     "output_type": "stream",
     "text": [
      "7348it [02:11, 55.97it/s]\n"
     ]
    }
   ],
   "source": [
    "all_img_labels = []\n",
    "all_img_path = []\n",
    "for i in tqdm(train_dir.glob('*.tif')):\n",
    "    img_id = i.stem\n",
    "    label = df[df['id'] == img_id]['label'].values[0]\n",
    "    all_img_path.append(str(i.resolve()))\n",
    "    all_img_labels.append(label)"
   ]
  },
  {
   "cell_type": "code",
   "execution_count": 9,
   "metadata": {},
   "outputs": [
    {
     "data": {
      "text/plain": [
       "'/Volumes/Transcend/data/hist/train/0038ee22653a69294588be9707bc5009ecf546ce.tif'"
      ]
     },
     "execution_count": 9,
     "metadata": {},
     "output_type": "execute_result"
    }
   ],
   "source": [
    "all_img_path[9]"
   ]
  },
  {
   "cell_type": "code",
   "execution_count": 10,
   "metadata": {},
   "outputs": [
    {
     "data": {
      "text/plain": [
       "0"
      ]
     },
     "execution_count": 10,
     "metadata": {},
     "output_type": "execute_result"
    }
   ],
   "source": [
    "all_img_labels[9]"
   ]
  },
  {
   "cell_type": "code",
   "execution_count": 11,
   "metadata": {},
   "outputs": [],
   "source": [
    "import tensorflow as tf"
   ]
  },
  {
   "cell_type": "code",
   "execution_count": 12,
   "metadata": {},
   "outputs": [],
   "source": [
    "def _bytes_feature(value):\n",
    "  \"\"\"Returns a bytes_list from a string / byte.\"\"\"\n",
    "  return tf.train.Feature(bytes_list=tf.train.BytesList(value=[value]))"
   ]
  },
  {
   "cell_type": "code",
   "execution_count": 13,
   "metadata": {},
   "outputs": [],
   "source": [
    "def _int64_feature(value):\n",
    "  \"\"\"Returns an int64_list from a bool / enum / int / uint.\"\"\"\n",
    "  return tf.train.Feature(int64_list=tf.train.Int64List(value=[value]))"
   ]
  },
  {
   "cell_type": "code",
   "execution_count": 19,
   "metadata": {},
   "outputs": [],
   "source": [
    "def get_img_example(img_path, img_label):\n",
    "    img_str = open(img_path, 'rb').read()\n",
    "    feature = {\n",
    "        'img' : _bytes_feature(img_str),\n",
    "        'label' : _int64_feature(img_label)\n",
    "    }\n",
    "    return tf.train.Example(features=tf.train.Features(feature=feature))"
   ]
  },
  {
   "cell_type": "code",
   "execution_count": 23,
   "metadata": {},
   "outputs": [],
   "source": [
    "idx = 0\n",
    "base_file = 'hist_rec_'\n",
    "suffix = '.tfrec'\n",
    "count = 1\n",
    "while True:\n",
    "    tfrec_file_name = base_file + str(count) + suffix\n",
    "    if idx >= len(all_img_path):\n",
    "        break\n",
    "    with tf.compat.v1.python_io.TFRecordWriter(tfrec_file_name) as writer:\n",
    "        while idx < len(all_img_path):\n",
    "            path = all_img_path[idx]\n",
    "            label = all_img_labels[idx]\n",
    "            example = get_img_example(path, label)\n",
    "            writer.write(example.SerializeToString())\n",
    "            idx += 1\n",
    "            if idx > 0 and idx % 1000 == 0:\n",
    "                count += 1\n",
    "                break"
   ]
  },
  {
   "cell_type": "code",
   "execution_count": 20,
   "metadata": {},
   "outputs": [],
   "source": [
    "with tf.compat.v1.python_io.TFRecordWriter('test.tfrec') as writer:\n",
    "    count = 0\n",
    "    while count < 10:\n",
    "        count += 1\n",
    "        path = all_img_path[count]\n",
    "        label = all_img_labels[count]\n",
    "        example = get_img_example(path, label)\n",
    "        writer.write(example.SerializeToString())"
   ]
  },
  {
   "cell_type": "code",
   "execution_count": 17,
   "metadata": {},
   "outputs": [
    {
     "data": {
      "text/plain": [
       "'2.0.0-rc0'"
      ]
     },
     "execution_count": 17,
     "metadata": {},
     "output_type": "execute_result"
    }
   ],
   "source": [
    "tf.__version__"
   ]
  },
  {
   "cell_type": "code",
   "execution_count": 26,
   "metadata": {},
   "outputs": [],
   "source": [
    "def preprocess_img(image):\n",
    "    '''Resize and normalize a given image.\n",
    "    \n",
    "    :param image: Image\n",
    "    :type image: Raw Tensor Data\n",
    "    :return: Resized immage\n",
    "    :rtype: Tensor\n",
    "    '''\n",
    "    image = tf.image.decode_jpeg(image)    \n",
    "    image = tf.image.resize(image, [32, 32])\n",
    "    image /= 255.0\n",
    "    return image"
   ]
  },
  {
   "cell_type": "code",
   "execution_count": 41,
   "metadata": {},
   "outputs": [],
   "source": [
    "def get_file_path_labels(id_label_df, train_dir):\n",
    "    '''Get list of file paths and corresponding labels\n",
    "    \n",
    "    :param id_label_df: Dataframe with id to label mapping\n",
    "    :type id_label_df: Pandas Dataframe\n",
    "    :param train_dir: Training directory\n",
    "    :type train_dir: String\n",
    "    :return: Paths to images, labels\n",
    "    :rtype: 2 lists\n",
    "    '''\n",
    "    train_dir = pathlib.Path(train_dir)\n",
    "    img_label = []\n",
    "    img_path = []\n",
    "    count = 0\n",
    "    for i in tqdm(train_dir.glob('*.tif')):\n",
    "        count += 1\n",
    "        if count > 1000:\n",
    "            break\n",
    "        img_id = i.stem\n",
    "        label = id_label_df[id_label_df['id'] == img_id]['label'].values[0]\n",
    "        img_label.append(label)\n",
    "        img_path.append(str(i.resolve()))\n",
    "    return img_path, img_label"
   ]
  },
  {
   "cell_type": "code",
   "execution_count": 28,
   "metadata": {},
   "outputs": [],
   "source": [
    "def _bytes_feature(value):\n",
    "  \"\"\"Returns a bytes_list from a string / byte.\"\"\"\n",
    "  return tf.train.Feature(bytes_list=tf.train.BytesList(value=[value]))\n",
    "\n",
    "def _int64_feature(value):\n",
    "  \"\"\"Returns an int64_list from a bool / enum / int / uint.\"\"\"\n",
    "  return tf.train.Feature(int64_list=tf.train.Int64List(value=[value]))\n",
    "  \n",
    "def get_img_example(img_path, img_label):\n",
    "    img_str = open(img_path, 'rb').read()\n",
    "    feature = {\n",
    "        'img' : _bytes_feature(img_str),\n",
    "        'label' : _int64_feature(img_label)\n",
    "    }\n",
    "    return tf.train.Example(features=tf.train.Features(feature=feature))"
   ]
  },
  {
   "cell_type": "code",
   "execution_count": null,
   "metadata": {},
   "outputs": [],
   "source": []
  },
  {
   "cell_type": "code",
   "execution_count": null,
   "metadata": {},
   "outputs": [],
   "source": []
  },
  {
   "cell_type": "code",
   "execution_count": null,
   "metadata": {},
   "outputs": [],
   "source": []
  },
  {
   "cell_type": "code",
   "execution_count": null,
   "metadata": {},
   "outputs": [],
   "source": []
  },
  {
   "cell_type": "code",
   "execution_count": null,
   "metadata": {},
   "outputs": [],
   "source": []
  },
  {
   "cell_type": "code",
   "execution_count": null,
   "metadata": {},
   "outputs": [],
   "source": []
  },
  {
   "cell_type": "code",
   "execution_count": 42,
   "metadata": {},
   "outputs": [],
   "source": [
    "def build_multiple_tf_records(csv_path, train_dir):\n",
    "    '''Build multiple tf record files\n",
    "    \n",
    "    :param csv_path: Path to labels csv\n",
    "    :type csv_path: String\n",
    "    :param train_dir: Training directory\n",
    "    :type train_dir: String\n",
    "    '''\n",
    "    img_label_df = pd.read_csv(csv_path)\n",
    "    img_path, img_label = get_file_path_labels(img_label_df, train_dir)\n",
    "    idx = 0\n",
    "    base_file = 'hist_rec_'\n",
    "    suffix = '.tfrec'\n",
    "    count = 1\n",
    "    while True:\n",
    "        if idx >= len(img_path):\n",
    "            break\n",
    "        tfrec_file_name = base_file + str(count) + suffix\n",
    "        print(tfrec_file_name)\n",
    "        with tf.compat.v1.python_io.TFRecordWriter(tfrec_file_name) as writer:\n",
    "            while idx < len(all_img_path):\n",
    "                path = img_path[idx]\n",
    "                label = img_label[idx]\n",
    "                example = get_img_example(path, label)\n",
    "                writer.write(example.SerializeToString())\n",
    "                idx += 1\n",
    "                if idx > 0 and idx % 100 == 0:\n",
    "                    count += 1\n",
    "                    break"
   ]
  },
  {
   "cell_type": "code",
   "execution_count": 43,
   "metadata": {},
   "outputs": [
    {
     "name": "stderr",
     "output_type": "stream",
     "text": [
      "996it [00:17, 53.45it/s]"
     ]
    },
    {
     "name": "stdout",
     "output_type": "stream",
     "text": [
      "hist_rec_1.tfrec\n",
      "hist_rec_2.tfrec\n",
      "hist_rec_3.tfrec\n",
      "hist_rec_4.tfrec\n",
      "hist_rec_5.tfrec\n",
      "hist_rec_6.tfrec\n",
      "hist_rec_7.tfrec\n",
      "hist_rec_8.tfrec\n",
      "hist_rec_9.tfrec\n",
      "hist_rec_10.tfrec\n"
     ]
    },
    {
     "name": "stderr",
     "output_type": "stream",
     "text": [
      "996it [00:30, 53.45it/s]"
     ]
    }
   ],
   "source": [
    "csv_path = '/Volumes/Transcend/Data/hist/train_labels.csv'\n",
    "train_dir = '/Volumes/Transcend/Data/hist/train/'\n",
    "build_multiple_tf_records(csv_path, train_dir)"
   ]
  },
  {
   "cell_type": "code",
   "execution_count": null,
   "metadata": {},
   "outputs": [],
   "source": []
  },
  {
   "cell_type": "code",
   "execution_count": null,
   "metadata": {},
   "outputs": [],
   "source": []
  },
  {
   "cell_type": "code",
   "execution_count": null,
   "metadata": {},
   "outputs": [],
   "source": []
  },
  {
   "cell_type": "code",
   "execution_count": null,
   "metadata": {},
   "outputs": [],
   "source": []
  },
  {
   "cell_type": "code",
   "execution_count": null,
   "metadata": {},
   "outputs": [],
   "source": [
    "image_ds = tf.data.Dataset.from_tensor_slices(all_img_path).map(tf.io.read_file)"
   ]
  },
  {
   "cell_type": "code",
   "execution_count": null,
   "metadata": {},
   "outputs": [],
   "source": [
    "raw_img_tfrec = tf.data.experimental.TFRecordWriter('raw_img.tfrec')"
   ]
  },
  {
   "cell_type": "code",
   "execution_count": null,
   "metadata": {},
   "outputs": [],
   "source": [
    "raw_img_tfrec.write(image_ds)"
   ]
  },
  {
   "cell_type": "code",
   "execution_count": null,
   "metadata": {},
   "outputs": [],
   "source": [
    "def load_preprocess_img(img):\n",
    "    img = tf.io.read_file(img)\n",
    "    img = tf.image.decode_jpeg(img)\n",
    "    img = tf.image.resize(img, [32, 32])\n",
    "    img = img / 255.0\n",
    "    return img"
   ]
  },
  {
   "cell_type": "code",
   "execution_count": null,
   "metadata": {},
   "outputs": [],
   "source": [
    "img_ds = tf.data.Dataset.from_tensor_slices(all_img_path).map(load_preprocess_img)"
   ]
  },
  {
   "cell_type": "code",
   "execution_count": null,
   "metadata": {},
   "outputs": [],
   "source": [
    "img_label = tf.data.Dataset.from_tensor_slices(all_img_labels)"
   ]
  },
  {
   "cell_type": "code",
   "execution_count": null,
   "metadata": {},
   "outputs": [],
   "source": [
    "t_img_dataset = tf.data.Dataset.zip((image_ds, img_label))"
   ]
  },
  {
   "cell_type": "code",
   "execution_count": null,
   "metadata": {},
   "outputs": [],
   "source": [
    "len(t_img_dataset)"
   ]
  }
 ],
 "metadata": {
  "kernelspec": {
   "display_name": "Python 3",
   "language": "python",
   "name": "python3"
  },
  "language_info": {
   "codemirror_mode": {
    "name": "ipython",
    "version": 3
   },
   "file_extension": ".py",
   "mimetype": "text/x-python",
   "name": "python",
   "nbconvert_exporter": "python",
   "pygments_lexer": "ipython3",
   "version": "3.6.9"
  }
 },
 "nbformat": 4,
 "nbformat_minor": 4
}
